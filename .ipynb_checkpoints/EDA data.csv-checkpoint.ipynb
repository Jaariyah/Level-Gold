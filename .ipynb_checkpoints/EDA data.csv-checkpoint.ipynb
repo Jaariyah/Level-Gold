{
 "cells": [
  {
   "cell_type": "code",
   "execution_count": 1,
   "id": "0ea793f3",
   "metadata": {},
   "outputs": [],
   "source": [
    "import pandas as pd\n",
    "import numpy as np\n",
    "import re\n",
    "import matplotlib.pyplot as plt\n",
    "import seaborn as sns\n",
    "import sqlite3"
   ]
  },
  {
   "cell_type": "code",
   "execution_count": 146,
   "id": "a215f414",
   "metadata": {},
   "outputs": [
    {
     "data": {
      "text/html": [
       "<div>\n",
       "<style scoped>\n",
       "    .dataframe tbody tr th:only-of-type {\n",
       "        vertical-align: middle;\n",
       "    }\n",
       "\n",
       "    .dataframe tbody tr th {\n",
       "        vertical-align: top;\n",
       "    }\n",
       "\n",
       "    .dataframe thead th {\n",
       "        text-align: right;\n",
       "    }\n",
       "</style>\n",
       "<table border=\"1\" class=\"dataframe\">\n",
       "  <thead>\n",
       "    <tr style=\"text-align: right;\">\n",
       "      <th></th>\n",
       "      <th>Tweet</th>\n",
       "      <th>HS</th>\n",
       "      <th>Abusive</th>\n",
       "      <th>HS_Individual</th>\n",
       "      <th>HS_Group</th>\n",
       "      <th>HS_Religion</th>\n",
       "      <th>HS_Race</th>\n",
       "      <th>HS_Physical</th>\n",
       "      <th>HS_Gender</th>\n",
       "      <th>HS_Other</th>\n",
       "      <th>HS_Weak</th>\n",
       "      <th>HS_Moderate</th>\n",
       "      <th>HS_Strong;;;;;;;;;;;;;;;;;</th>\n",
       "    </tr>\n",
       "  </thead>\n",
       "  <tbody>\n",
       "    <tr>\n",
       "      <th>0</th>\n",
       "      <td>- disaat semua cowok berusaha melacak perhatia...</td>\n",
       "      <td>1.0</td>\n",
       "      <td>1.0</td>\n",
       "      <td>1.0</td>\n",
       "      <td>0.0</td>\n",
       "      <td>0.0</td>\n",
       "      <td>0.0</td>\n",
       "      <td>0.0</td>\n",
       "      <td>0.0</td>\n",
       "      <td>1.0</td>\n",
       "      <td>1.0</td>\n",
       "      <td>0.0</td>\n",
       "      <td>0;;;;;;;;;;;;;;;;;</td>\n",
       "    </tr>\n",
       "    <tr>\n",
       "      <th>1</th>\n",
       "      <td>RT USER: USER siapa yang telat ngasih tau elu?...</td>\n",
       "      <td>0.0</td>\n",
       "      <td>1.0</td>\n",
       "      <td>0.0</td>\n",
       "      <td>0.0</td>\n",
       "      <td>0.0</td>\n",
       "      <td>0.0</td>\n",
       "      <td>0.0</td>\n",
       "      <td>0.0</td>\n",
       "      <td>0.0</td>\n",
       "      <td>0.0</td>\n",
       "      <td>0.0</td>\n",
       "      <td>0;;;;;;;;;;;;;;;;;</td>\n",
       "    </tr>\n",
       "    <tr>\n",
       "      <th>2</th>\n",
       "      <td>USER USER AKU ITU AKU\\n\\nKU TAU MATAMU SIPIT T...</td>\n",
       "      <td>0.0</td>\n",
       "      <td>0.0</td>\n",
       "      <td>0.0</td>\n",
       "      <td>0.0</td>\n",
       "      <td>0.0</td>\n",
       "      <td>0.0</td>\n",
       "      <td>0.0</td>\n",
       "      <td>0.0</td>\n",
       "      <td>0.0</td>\n",
       "      <td>0.0</td>\n",
       "      <td>0.0</td>\n",
       "      <td>0;;;;;;;;;;;;;;;;;</td>\n",
       "    </tr>\n",
       "    <tr>\n",
       "      <th>3</th>\n",
       "      <td>USER USER Kaum cebong kapir udah keliatan dong...</td>\n",
       "      <td>1.0</td>\n",
       "      <td>1.0</td>\n",
       "      <td>0.0</td>\n",
       "      <td>1.0</td>\n",
       "      <td>1.0</td>\n",
       "      <td>0.0</td>\n",
       "      <td>0.0</td>\n",
       "      <td>0.0</td>\n",
       "      <td>0.0</td>\n",
       "      <td>0.0</td>\n",
       "      <td>1.0</td>\n",
       "      <td>0;;;;;;;;;;;;;;;;;</td>\n",
       "    </tr>\n",
       "    <tr>\n",
       "      <th>4</th>\n",
       "      <td>USER Ya bani taplak dkk \\xf0\\x9f\\x98\\x84\\xf0\\x...</td>\n",
       "      <td>1.0</td>\n",
       "      <td>1.0</td>\n",
       "      <td>0.0</td>\n",
       "      <td>1.0</td>\n",
       "      <td>0.0</td>\n",
       "      <td>0.0</td>\n",
       "      <td>0.0</td>\n",
       "      <td>0.0</td>\n",
       "      <td>1.0</td>\n",
       "      <td>0.0</td>\n",
       "      <td>1.0</td>\n",
       "      <td>0;;;;;;;;;;;;;;;;;</td>\n",
       "    </tr>\n",
       "  </tbody>\n",
       "</table>\n",
       "</div>"
      ],
      "text/plain": [
       "                                               Tweet   HS  Abusive  \\\n",
       "0  - disaat semua cowok berusaha melacak perhatia...  1.0      1.0   \n",
       "1  RT USER: USER siapa yang telat ngasih tau elu?...  0.0      1.0   \n",
       "2  USER USER AKU ITU AKU\\n\\nKU TAU MATAMU SIPIT T...  0.0      0.0   \n",
       "3  USER USER Kaum cebong kapir udah keliatan dong...  1.0      1.0   \n",
       "4  USER Ya bani taplak dkk \\xf0\\x9f\\x98\\x84\\xf0\\x...  1.0      1.0   \n",
       "\n",
       "   HS_Individual  HS_Group  HS_Religion  HS_Race  HS_Physical  HS_Gender  \\\n",
       "0            1.0       0.0          0.0      0.0          0.0        0.0   \n",
       "1            0.0       0.0          0.0      0.0          0.0        0.0   \n",
       "2            0.0       0.0          0.0      0.0          0.0        0.0   \n",
       "3            0.0       1.0          1.0      0.0          0.0        0.0   \n",
       "4            0.0       1.0          0.0      0.0          0.0        0.0   \n",
       "\n",
       "   HS_Other  HS_Weak  HS_Moderate HS_Strong;;;;;;;;;;;;;;;;;  \n",
       "0       1.0      1.0          0.0         0;;;;;;;;;;;;;;;;;  \n",
       "1       0.0      0.0          0.0         0;;;;;;;;;;;;;;;;;  \n",
       "2       0.0      0.0          0.0         0;;;;;;;;;;;;;;;;;  \n",
       "3       0.0      0.0          1.0         0;;;;;;;;;;;;;;;;;  \n",
       "4       1.0      0.0          1.0         0;;;;;;;;;;;;;;;;;  "
      ]
     },
     "execution_count": 146,
     "metadata": {},
     "output_type": "execute_result"
    }
   ],
   "source": [
    "df = pd.read_csv('Data.csv',encoding='iso-8859-1', on_bad_lines='skip')\n",
    "df.head()"
   ]
  },
  {
   "cell_type": "code",
   "execution_count": 23,
   "id": "b6fa4c53",
   "metadata": {},
   "outputs": [
    {
     "name": "stdout",
     "output_type": "stream",
     "text": [
      "<class 'pandas.core.frame.DataFrame'>\n",
      "RangeIndex: 9280 entries, 0 to 9279\n",
      "Data columns (total 13 columns):\n",
      " #   Column                      Non-Null Count  Dtype  \n",
      "---  ------                      --------------  -----  \n",
      " 0   Tweet                       9280 non-null   object \n",
      " 1   HS                          7946 non-null   float64\n",
      " 2   Abusive                     7946 non-null   float64\n",
      " 3   HS_Individual               7946 non-null   float64\n",
      " 4   HS_Group                    7946 non-null   float64\n",
      " 5   HS_Religion                 7946 non-null   float64\n",
      " 6   HS_Race                     7946 non-null   float64\n",
      " 7   HS_Physical                 7946 non-null   float64\n",
      " 8   HS_Gender                   7946 non-null   float64\n",
      " 9   HS_Other                    7946 non-null   float64\n",
      " 10  HS_Weak                     7946 non-null   float64\n",
      " 11  HS_Moderate                 7946 non-null   float64\n",
      " 12  HS_Strong;;;;;;;;;;;;;;;;;  7946 non-null   object \n",
      "dtypes: float64(11), object(2)\n",
      "memory usage: 942.6+ KB\n"
     ]
    }
   ],
   "source": [
    "df.info()"
   ]
  },
  {
   "cell_type": "code",
   "execution_count": 145,
   "id": "11d2667c",
   "metadata": {},
   "outputs": [
    {
     "data": {
      "text/plain": [
       "(7946, 14)"
      ]
     },
     "execution_count": 145,
     "metadata": {},
     "output_type": "execute_result"
    }
   ],
   "source": [
    "df.shape"
   ]
  },
  {
   "cell_type": "code",
   "execution_count": 45,
   "id": "8c0f1a8a",
   "metadata": {},
   "outputs": [
    {
     "data": {
      "text/html": [
       "<div>\n",
       "<style scoped>\n",
       "    .dataframe tbody tr th:only-of-type {\n",
       "        vertical-align: middle;\n",
       "    }\n",
       "\n",
       "    .dataframe tbody tr th {\n",
       "        vertical-align: top;\n",
       "    }\n",
       "\n",
       "    .dataframe thead th {\n",
       "        text-align: right;\n",
       "    }\n",
       "</style>\n",
       "<table border=\"1\" class=\"dataframe\">\n",
       "  <thead>\n",
       "    <tr style=\"text-align: right;\">\n",
       "      <th></th>\n",
       "      <th>Tweet</th>\n",
       "      <th>HS</th>\n",
       "      <th>Abusive</th>\n",
       "      <th>HS_Individual</th>\n",
       "      <th>HS_Group</th>\n",
       "      <th>HS_Religion</th>\n",
       "      <th>HS_Race</th>\n",
       "      <th>HS_Physical</th>\n",
       "      <th>HS_Gender</th>\n",
       "      <th>HS_Other</th>\n",
       "      <th>HS_Weak</th>\n",
       "      <th>HS_Moderate</th>\n",
       "      <th>HS_Strong;;;;;;;;;;;;;;;;;</th>\n",
       "    </tr>\n",
       "  </thead>\n",
       "  <tbody>\n",
       "    <tr>\n",
       "      <th>0</th>\n",
       "      <td>- disaat semua cowok berusaha melacak perhatia...</td>\n",
       "      <td>1.0</td>\n",
       "      <td>1.0</td>\n",
       "      <td>1.0</td>\n",
       "      <td>0.0</td>\n",
       "      <td>0.0</td>\n",
       "      <td>0.0</td>\n",
       "      <td>0.0</td>\n",
       "      <td>0.0</td>\n",
       "      <td>1.0</td>\n",
       "      <td>1.0</td>\n",
       "      <td>0.0</td>\n",
       "      <td>0;;;;;;;;;;;;;;;;;</td>\n",
       "    </tr>\n",
       "    <tr>\n",
       "      <th>1</th>\n",
       "      <td>RT USER: USER siapa yang telat ngasih tau elu?...</td>\n",
       "      <td>0.0</td>\n",
       "      <td>1.0</td>\n",
       "      <td>0.0</td>\n",
       "      <td>0.0</td>\n",
       "      <td>0.0</td>\n",
       "      <td>0.0</td>\n",
       "      <td>0.0</td>\n",
       "      <td>0.0</td>\n",
       "      <td>0.0</td>\n",
       "      <td>0.0</td>\n",
       "      <td>0.0</td>\n",
       "      <td>0;;;;;;;;;;;;;;;;;</td>\n",
       "    </tr>\n",
       "    <tr>\n",
       "      <th>2</th>\n",
       "      <td>USER USER AKU ITU AKU\\n\\nKU TAU MATAMU SIPIT T...</td>\n",
       "      <td>0.0</td>\n",
       "      <td>0.0</td>\n",
       "      <td>0.0</td>\n",
       "      <td>0.0</td>\n",
       "      <td>0.0</td>\n",
       "      <td>0.0</td>\n",
       "      <td>0.0</td>\n",
       "      <td>0.0</td>\n",
       "      <td>0.0</td>\n",
       "      <td>0.0</td>\n",
       "      <td>0.0</td>\n",
       "      <td>0;;;;;;;;;;;;;;;;;</td>\n",
       "    </tr>\n",
       "    <tr>\n",
       "      <th>3</th>\n",
       "      <td>USER USER Kaum cebong kapir udah keliatan dong...</td>\n",
       "      <td>1.0</td>\n",
       "      <td>1.0</td>\n",
       "      <td>0.0</td>\n",
       "      <td>1.0</td>\n",
       "      <td>1.0</td>\n",
       "      <td>0.0</td>\n",
       "      <td>0.0</td>\n",
       "      <td>0.0</td>\n",
       "      <td>0.0</td>\n",
       "      <td>0.0</td>\n",
       "      <td>1.0</td>\n",
       "      <td>0;;;;;;;;;;;;;;;;;</td>\n",
       "    </tr>\n",
       "    <tr>\n",
       "      <th>4</th>\n",
       "      <td>USER Ya bani taplak dkk \\xf0\\x9f\\x98\\x84\\xf0\\x...</td>\n",
       "      <td>1.0</td>\n",
       "      <td>1.0</td>\n",
       "      <td>0.0</td>\n",
       "      <td>1.0</td>\n",
       "      <td>0.0</td>\n",
       "      <td>0.0</td>\n",
       "      <td>0.0</td>\n",
       "      <td>0.0</td>\n",
       "      <td>1.0</td>\n",
       "      <td>0.0</td>\n",
       "      <td>1.0</td>\n",
       "      <td>0;;;;;;;;;;;;;;;;;</td>\n",
       "    </tr>\n",
       "  </tbody>\n",
       "</table>\n",
       "</div>"
      ],
      "text/plain": [
       "                                               Tweet   HS  Abusive  \\\n",
       "0  - disaat semua cowok berusaha melacak perhatia...  1.0      1.0   \n",
       "1  RT USER: USER siapa yang telat ngasih tau elu?...  0.0      1.0   \n",
       "2  USER USER AKU ITU AKU\\n\\nKU TAU MATAMU SIPIT T...  0.0      0.0   \n",
       "3  USER USER Kaum cebong kapir udah keliatan dong...  1.0      1.0   \n",
       "4  USER Ya bani taplak dkk \\xf0\\x9f\\x98\\x84\\xf0\\x...  1.0      1.0   \n",
       "\n",
       "   HS_Individual  HS_Group  HS_Religion  HS_Race  HS_Physical  HS_Gender  \\\n",
       "0            1.0       0.0          0.0      0.0          0.0        0.0   \n",
       "1            0.0       0.0          0.0      0.0          0.0        0.0   \n",
       "2            0.0       0.0          0.0      0.0          0.0        0.0   \n",
       "3            0.0       1.0          1.0      0.0          0.0        0.0   \n",
       "4            0.0       1.0          0.0      0.0          0.0        0.0   \n",
       "\n",
       "   HS_Other  HS_Weak  HS_Moderate HS_Strong;;;;;;;;;;;;;;;;;  \n",
       "0       1.0      1.0          0.0         0;;;;;;;;;;;;;;;;;  \n",
       "1       0.0      0.0          0.0         0;;;;;;;;;;;;;;;;;  \n",
       "2       0.0      0.0          0.0         0;;;;;;;;;;;;;;;;;  \n",
       "3       0.0      0.0          1.0         0;;;;;;;;;;;;;;;;;  \n",
       "4       1.0      0.0          1.0         0;;;;;;;;;;;;;;;;;  "
      ]
     },
     "execution_count": 45,
     "metadata": {},
     "output_type": "execute_result"
    }
   ],
   "source": [
    "df = df.dropna()\n",
    "df.head()"
   ]
  },
  {
   "cell_type": "code",
   "execution_count": 46,
   "id": "7ae18515",
   "metadata": {},
   "outputs": [
    {
     "name": "stdout",
     "output_type": "stream",
     "text": [
      "<class 'pandas.core.frame.DataFrame'>\n",
      "Int64Index: 7946 entries, 0 to 9278\n",
      "Data columns (total 13 columns):\n",
      " #   Column                      Non-Null Count  Dtype  \n",
      "---  ------                      --------------  -----  \n",
      " 0   Tweet                       7946 non-null   object \n",
      " 1   HS                          7946 non-null   float64\n",
      " 2   Abusive                     7946 non-null   float64\n",
      " 3   HS_Individual               7946 non-null   float64\n",
      " 4   HS_Group                    7946 non-null   float64\n",
      " 5   HS_Religion                 7946 non-null   float64\n",
      " 6   HS_Race                     7946 non-null   float64\n",
      " 7   HS_Physical                 7946 non-null   float64\n",
      " 8   HS_Gender                   7946 non-null   float64\n",
      " 9   HS_Other                    7946 non-null   float64\n",
      " 10  HS_Weak                     7946 non-null   float64\n",
      " 11  HS_Moderate                 7946 non-null   float64\n",
      " 12  HS_Strong;;;;;;;;;;;;;;;;;  7946 non-null   object \n",
      "dtypes: float64(11), object(2)\n",
      "memory usage: 869.1+ KB\n"
     ]
    }
   ],
   "source": [
    "df.info()"
   ]
  },
  {
   "cell_type": "code",
   "execution_count": 47,
   "id": "2ee7ad59",
   "metadata": {},
   "outputs": [
    {
     "name": "stderr",
     "output_type": "stream",
     "text": [
      "C:\\Users\\Lenovo\\AppData\\Local\\Temp\\ipykernel_21264\\3003155693.py:1: FutureWarning: The default value of regex will change from True to False in a future version.\n",
      "  df['HS_Strong'] = df['HS_Strong;;;;;;;;;;;;;;;;;'].str.replace(r'\\D', '')\n",
      "C:\\Users\\Lenovo\\AppData\\Local\\Temp\\ipykernel_21264\\3003155693.py:1: SettingWithCopyWarning: \n",
      "A value is trying to be set on a copy of a slice from a DataFrame.\n",
      "Try using .loc[row_indexer,col_indexer] = value instead\n",
      "\n",
      "See the caveats in the documentation: https://pandas.pydata.org/pandas-docs/stable/user_guide/indexing.html#returning-a-view-versus-a-copy\n",
      "  df['HS_Strong'] = df['HS_Strong;;;;;;;;;;;;;;;;;'].str.replace(r'\\D', '')\n"
     ]
    }
   ],
   "source": [
    "df['HS_Strong'] = df['HS_Strong;;;;;;;;;;;;;;;;;'].str.replace(r'\\D', '')"
   ]
  },
  {
   "cell_type": "code",
   "execution_count": 48,
   "id": "4166841a",
   "metadata": {},
   "outputs": [
    {
     "data": {
      "text/html": [
       "<div>\n",
       "<style scoped>\n",
       "    .dataframe tbody tr th:only-of-type {\n",
       "        vertical-align: middle;\n",
       "    }\n",
       "\n",
       "    .dataframe tbody tr th {\n",
       "        vertical-align: top;\n",
       "    }\n",
       "\n",
       "    .dataframe thead th {\n",
       "        text-align: right;\n",
       "    }\n",
       "</style>\n",
       "<table border=\"1\" class=\"dataframe\">\n",
       "  <thead>\n",
       "    <tr style=\"text-align: right;\">\n",
       "      <th></th>\n",
       "      <th>Tweet</th>\n",
       "      <th>HS</th>\n",
       "      <th>Abusive</th>\n",
       "      <th>HS_Individual</th>\n",
       "      <th>HS_Group</th>\n",
       "      <th>HS_Religion</th>\n",
       "      <th>HS_Race</th>\n",
       "      <th>HS_Physical</th>\n",
       "      <th>HS_Gender</th>\n",
       "      <th>HS_Other</th>\n",
       "      <th>HS_Weak</th>\n",
       "      <th>HS_Moderate</th>\n",
       "      <th>HS_Strong;;;;;;;;;;;;;;;;;</th>\n",
       "      <th>HS_Strong</th>\n",
       "    </tr>\n",
       "  </thead>\n",
       "  <tbody>\n",
       "    <tr>\n",
       "      <th>0</th>\n",
       "      <td>- disaat semua cowok berusaha melacak perhatia...</td>\n",
       "      <td>1.0</td>\n",
       "      <td>1.0</td>\n",
       "      <td>1.0</td>\n",
       "      <td>0.0</td>\n",
       "      <td>0.0</td>\n",
       "      <td>0.0</td>\n",
       "      <td>0.0</td>\n",
       "      <td>0.0</td>\n",
       "      <td>1.0</td>\n",
       "      <td>1.0</td>\n",
       "      <td>0.0</td>\n",
       "      <td>0;;;;;;;;;;;;;;;;;</td>\n",
       "      <td>0</td>\n",
       "    </tr>\n",
       "    <tr>\n",
       "      <th>1</th>\n",
       "      <td>RT USER: USER siapa yang telat ngasih tau elu?...</td>\n",
       "      <td>0.0</td>\n",
       "      <td>1.0</td>\n",
       "      <td>0.0</td>\n",
       "      <td>0.0</td>\n",
       "      <td>0.0</td>\n",
       "      <td>0.0</td>\n",
       "      <td>0.0</td>\n",
       "      <td>0.0</td>\n",
       "      <td>0.0</td>\n",
       "      <td>0.0</td>\n",
       "      <td>0.0</td>\n",
       "      <td>0;;;;;;;;;;;;;;;;;</td>\n",
       "      <td>0</td>\n",
       "    </tr>\n",
       "    <tr>\n",
       "      <th>2</th>\n",
       "      <td>USER USER AKU ITU AKU\\n\\nKU TAU MATAMU SIPIT T...</td>\n",
       "      <td>0.0</td>\n",
       "      <td>0.0</td>\n",
       "      <td>0.0</td>\n",
       "      <td>0.0</td>\n",
       "      <td>0.0</td>\n",
       "      <td>0.0</td>\n",
       "      <td>0.0</td>\n",
       "      <td>0.0</td>\n",
       "      <td>0.0</td>\n",
       "      <td>0.0</td>\n",
       "      <td>0.0</td>\n",
       "      <td>0;;;;;;;;;;;;;;;;;</td>\n",
       "      <td>0</td>\n",
       "    </tr>\n",
       "    <tr>\n",
       "      <th>3</th>\n",
       "      <td>USER USER Kaum cebong kapir udah keliatan dong...</td>\n",
       "      <td>1.0</td>\n",
       "      <td>1.0</td>\n",
       "      <td>0.0</td>\n",
       "      <td>1.0</td>\n",
       "      <td>1.0</td>\n",
       "      <td>0.0</td>\n",
       "      <td>0.0</td>\n",
       "      <td>0.0</td>\n",
       "      <td>0.0</td>\n",
       "      <td>0.0</td>\n",
       "      <td>1.0</td>\n",
       "      <td>0;;;;;;;;;;;;;;;;;</td>\n",
       "      <td>0</td>\n",
       "    </tr>\n",
       "    <tr>\n",
       "      <th>4</th>\n",
       "      <td>USER Ya bani taplak dkk \\xf0\\x9f\\x98\\x84\\xf0\\x...</td>\n",
       "      <td>1.0</td>\n",
       "      <td>1.0</td>\n",
       "      <td>0.0</td>\n",
       "      <td>1.0</td>\n",
       "      <td>0.0</td>\n",
       "      <td>0.0</td>\n",
       "      <td>0.0</td>\n",
       "      <td>0.0</td>\n",
       "      <td>1.0</td>\n",
       "      <td>0.0</td>\n",
       "      <td>1.0</td>\n",
       "      <td>0;;;;;;;;;;;;;;;;;</td>\n",
       "      <td>0</td>\n",
       "    </tr>\n",
       "  </tbody>\n",
       "</table>\n",
       "</div>"
      ],
      "text/plain": [
       "                                               Tweet   HS  Abusive  \\\n",
       "0  - disaat semua cowok berusaha melacak perhatia...  1.0      1.0   \n",
       "1  RT USER: USER siapa yang telat ngasih tau elu?...  0.0      1.0   \n",
       "2  USER USER AKU ITU AKU\\n\\nKU TAU MATAMU SIPIT T...  0.0      0.0   \n",
       "3  USER USER Kaum cebong kapir udah keliatan dong...  1.0      1.0   \n",
       "4  USER Ya bani taplak dkk \\xf0\\x9f\\x98\\x84\\xf0\\x...  1.0      1.0   \n",
       "\n",
       "   HS_Individual  HS_Group  HS_Religion  HS_Race  HS_Physical  HS_Gender  \\\n",
       "0            1.0       0.0          0.0      0.0          0.0        0.0   \n",
       "1            0.0       0.0          0.0      0.0          0.0        0.0   \n",
       "2            0.0       0.0          0.0      0.0          0.0        0.0   \n",
       "3            0.0       1.0          1.0      0.0          0.0        0.0   \n",
       "4            0.0       1.0          0.0      0.0          0.0        0.0   \n",
       "\n",
       "   HS_Other  HS_Weak  HS_Moderate HS_Strong;;;;;;;;;;;;;;;;; HS_Strong  \n",
       "0       1.0      1.0          0.0         0;;;;;;;;;;;;;;;;;         0  \n",
       "1       0.0      0.0          0.0         0;;;;;;;;;;;;;;;;;         0  \n",
       "2       0.0      0.0          0.0         0;;;;;;;;;;;;;;;;;         0  \n",
       "3       0.0      0.0          1.0         0;;;;;;;;;;;;;;;;;         0  \n",
       "4       1.0      0.0          1.0         0;;;;;;;;;;;;;;;;;         0  "
      ]
     },
     "execution_count": 48,
     "metadata": {},
     "output_type": "execute_result"
    }
   ],
   "source": [
    "df.head()"
   ]
  },
  {
   "cell_type": "code",
   "execution_count": 52,
   "id": "bc9d2a14",
   "metadata": {},
   "outputs": [],
   "source": [
    "df = df.drop('HS_Strong;;;;;;;;;;;;;;;;;', axis = 1)"
   ]
  },
  {
   "cell_type": "code",
   "execution_count": 55,
   "id": "9f4c8f0b",
   "metadata": {},
   "outputs": [],
   "source": [
    "df['HS_Strong']=df['HS_Strong'].astype(float)"
   ]
  },
  {
   "cell_type": "code",
   "execution_count": 56,
   "id": "6a25b4b3",
   "metadata": {},
   "outputs": [
    {
     "name": "stdout",
     "output_type": "stream",
     "text": [
      "<class 'pandas.core.frame.DataFrame'>\n",
      "Int64Index: 7946 entries, 0 to 9278\n",
      "Data columns (total 13 columns):\n",
      " #   Column         Non-Null Count  Dtype  \n",
      "---  ------         --------------  -----  \n",
      " 0   Tweet          7946 non-null   object \n",
      " 1   HS             7946 non-null   float64\n",
      " 2   Abusive        7946 non-null   float64\n",
      " 3   HS_Individual  7946 non-null   float64\n",
      " 4   HS_Group       7946 non-null   float64\n",
      " 5   HS_Religion    7946 non-null   float64\n",
      " 6   HS_Race        7946 non-null   float64\n",
      " 7   HS_Physical    7946 non-null   float64\n",
      " 8   HS_Gender      7946 non-null   float64\n",
      " 9   HS_Other       7946 non-null   float64\n",
      " 10  HS_Weak        7946 non-null   float64\n",
      " 11  HS_Moderate    7946 non-null   float64\n",
      " 12  HS_Strong      7946 non-null   float64\n",
      "dtypes: float64(12), object(1)\n",
      "memory usage: 1.1+ MB\n"
     ]
    }
   ],
   "source": [
    "df.info()"
   ]
  },
  {
   "cell_type": "markdown",
   "id": "1928c1d8",
   "metadata": {},
   "source": [
    "Berdasarkan data 'data.csv' terdapat 9280 baris dengan 13 kolom"
   ]
  },
  {
   "cell_type": "code",
   "execution_count": 57,
   "id": "828c9651",
   "metadata": {},
   "outputs": [
    {
     "data": {
      "text/plain": [
       "Tweet            7946\n",
       "HS               7946\n",
       "Abusive          7946\n",
       "HS_Individual    7946\n",
       "HS_Group         7946\n",
       "HS_Religion      7946\n",
       "HS_Race          7946\n",
       "HS_Physical      7946\n",
       "HS_Gender        7946\n",
       "HS_Other         7946\n",
       "HS_Weak          7946\n",
       "HS_Moderate      7946\n",
       "HS_Strong        7946\n",
       "dtype: int64"
      ]
     },
     "execution_count": 57,
     "metadata": {},
     "output_type": "execute_result"
    }
   ],
   "source": [
    "df.count()"
   ]
  },
  {
   "cell_type": "code",
   "execution_count": 59,
   "id": "a965897d",
   "metadata": {},
   "outputs": [
    {
     "data": {
      "text/plain": [
       "Tweet            - disaat semua cowok berusaha melacak perhatia...\n",
       "HS                                                          3791.0\n",
       "Abusive                                                     3371.0\n",
       "HS_Individual                                               2493.0\n",
       "HS_Group                                                    1298.0\n",
       "HS_Religion                                                  427.0\n",
       "HS_Race                                                      434.0\n",
       "HS_Physical                                                  201.0\n",
       "HS_Gender                                                    193.0\n",
       "HS_Other                                                    2639.0\n",
       "HS_Weak                                                     2365.0\n",
       "HS_Moderate                                                 1077.0\n",
       "HS_Strong                                                    349.0\n",
       "dtype: object"
      ]
     },
     "execution_count": 59,
     "metadata": {},
     "output_type": "execute_result"
    }
   ],
   "source": [
    "df.sum()"
   ]
  },
  {
   "cell_type": "markdown",
   "id": "475368bd",
   "metadata": {},
   "source": [
    "Variabel yang terdapat dalam 'data.csv' yaitu antara lain : 'tweet sebanyak 9280' dan,'HS','Abusive','HS_Individual','HS_Group' ,'HS_Religion','HS_Race','HS_Physical','HS_Gender','HS_Other','HS_Weak','HS_Moderat','HS_Strong' sebanyak 7946 data."
   ]
  },
  {
   "cell_type": "code",
   "execution_count": 63,
   "id": "5685003f",
   "metadata": {},
   "outputs": [
    {
     "data": {
      "text/plain": [
       "Tweet            0\n",
       "HS               0\n",
       "Abusive          0\n",
       "HS_Individual    0\n",
       "HS_Group         0\n",
       "HS_Religion      0\n",
       "HS_Race          0\n",
       "HS_Physical      0\n",
       "HS_Gender        0\n",
       "HS_Other         0\n",
       "HS_Weak          0\n",
       "HS_Moderate      0\n",
       "HS_Strong        0\n",
       "dtype: int64"
      ]
     },
     "execution_count": 63,
     "metadata": {},
     "output_type": "execute_result"
    }
   ],
   "source": [
    "df.isnull().sum()"
   ]
  },
  {
   "cell_type": "code",
   "execution_count": 93,
   "id": "8a9810ef",
   "metadata": {},
   "outputs": [
    {
     "data": {
      "text/html": [
       "<div>\n",
       "<style scoped>\n",
       "    .dataframe tbody tr th:only-of-type {\n",
       "        vertical-align: middle;\n",
       "    }\n",
       "\n",
       "    .dataframe tbody tr th {\n",
       "        vertical-align: top;\n",
       "    }\n",
       "\n",
       "    .dataframe thead th {\n",
       "        text-align: right;\n",
       "    }\n",
       "</style>\n",
       "<table border=\"1\" class=\"dataframe\">\n",
       "  <thead>\n",
       "    <tr style=\"text-align: right;\">\n",
       "      <th></th>\n",
       "      <th>Tweet</th>\n",
       "      <th>HS</th>\n",
       "      <th>Abusive</th>\n",
       "      <th>HS_Individual</th>\n",
       "      <th>HS_Group</th>\n",
       "      <th>HS_Religion</th>\n",
       "      <th>HS_Race</th>\n",
       "      <th>HS_Physical</th>\n",
       "      <th>HS_Gender</th>\n",
       "      <th>HS_Other</th>\n",
       "      <th>HS_Weak</th>\n",
       "      <th>HS_Moderate</th>\n",
       "      <th>HS_Strong</th>\n",
       "      <th>label</th>\n",
       "    </tr>\n",
       "  </thead>\n",
       "  <tbody>\n",
       "    <tr>\n",
       "      <th>0</th>\n",
       "      <td>- disaat semua cowok berusaha melacak perhatia...</td>\n",
       "      <td>1.0</td>\n",
       "      <td>1.0</td>\n",
       "      <td>1.0</td>\n",
       "      <td>0.0</td>\n",
       "      <td>0.0</td>\n",
       "      <td>0.0</td>\n",
       "      <td>0.0</td>\n",
       "      <td>0.0</td>\n",
       "      <td>1.0</td>\n",
       "      <td>1.0</td>\n",
       "      <td>0.0</td>\n",
       "      <td>0.0</td>\n",
       "      <td>Hate Speech and Abusive</td>\n",
       "    </tr>\n",
       "    <tr>\n",
       "      <th>1</th>\n",
       "      <td>RT USER: USER siapa yang telat ngasih tau elu?...</td>\n",
       "      <td>0.0</td>\n",
       "      <td>1.0</td>\n",
       "      <td>0.0</td>\n",
       "      <td>0.0</td>\n",
       "      <td>0.0</td>\n",
       "      <td>0.0</td>\n",
       "      <td>0.0</td>\n",
       "      <td>0.0</td>\n",
       "      <td>0.0</td>\n",
       "      <td>0.0</td>\n",
       "      <td>0.0</td>\n",
       "      <td>0.0</td>\n",
       "      <td>Abusive</td>\n",
       "    </tr>\n",
       "    <tr>\n",
       "      <th>2</th>\n",
       "      <td>USER USER AKU ITU AKU\\n\\nKU TAU MATAMU SIPIT T...</td>\n",
       "      <td>0.0</td>\n",
       "      <td>0.0</td>\n",
       "      <td>0.0</td>\n",
       "      <td>0.0</td>\n",
       "      <td>0.0</td>\n",
       "      <td>0.0</td>\n",
       "      <td>0.0</td>\n",
       "      <td>0.0</td>\n",
       "      <td>0.0</td>\n",
       "      <td>0.0</td>\n",
       "      <td>0.0</td>\n",
       "      <td>0.0</td>\n",
       "      <td>No Hate Speech and No Abusive</td>\n",
       "    </tr>\n",
       "    <tr>\n",
       "      <th>3</th>\n",
       "      <td>USER USER Kaum cebong kapir udah keliatan dong...</td>\n",
       "      <td>1.0</td>\n",
       "      <td>1.0</td>\n",
       "      <td>0.0</td>\n",
       "      <td>1.0</td>\n",
       "      <td>1.0</td>\n",
       "      <td>0.0</td>\n",
       "      <td>0.0</td>\n",
       "      <td>0.0</td>\n",
       "      <td>0.0</td>\n",
       "      <td>0.0</td>\n",
       "      <td>1.0</td>\n",
       "      <td>0.0</td>\n",
       "      <td>Hate Speech and Abusive</td>\n",
       "    </tr>\n",
       "    <tr>\n",
       "      <th>4</th>\n",
       "      <td>USER Ya bani taplak dkk \\xf0\\x9f\\x98\\x84\\xf0\\x...</td>\n",
       "      <td>1.0</td>\n",
       "      <td>1.0</td>\n",
       "      <td>0.0</td>\n",
       "      <td>1.0</td>\n",
       "      <td>0.0</td>\n",
       "      <td>0.0</td>\n",
       "      <td>0.0</td>\n",
       "      <td>0.0</td>\n",
       "      <td>1.0</td>\n",
       "      <td>0.0</td>\n",
       "      <td>1.0</td>\n",
       "      <td>0.0</td>\n",
       "      <td>Hate Speech and Abusive</td>\n",
       "    </tr>\n",
       "  </tbody>\n",
       "</table>\n",
       "</div>"
      ],
      "text/plain": [
       "                                               Tweet   HS  Abusive  \\\n",
       "0  - disaat semua cowok berusaha melacak perhatia...  1.0      1.0   \n",
       "1  RT USER: USER siapa yang telat ngasih tau elu?...  0.0      1.0   \n",
       "2  USER USER AKU ITU AKU\\n\\nKU TAU MATAMU SIPIT T...  0.0      0.0   \n",
       "3  USER USER Kaum cebong kapir udah keliatan dong...  1.0      1.0   \n",
       "4  USER Ya bani taplak dkk \\xf0\\x9f\\x98\\x84\\xf0\\x...  1.0      1.0   \n",
       "\n",
       "   HS_Individual  HS_Group  HS_Religion  HS_Race  HS_Physical  HS_Gender  \\\n",
       "0            1.0       0.0          0.0      0.0          0.0        0.0   \n",
       "1            0.0       0.0          0.0      0.0          0.0        0.0   \n",
       "2            0.0       0.0          0.0      0.0          0.0        0.0   \n",
       "3            0.0       1.0          1.0      0.0          0.0        0.0   \n",
       "4            0.0       1.0          0.0      0.0          0.0        0.0   \n",
       "\n",
       "   HS_Other  HS_Weak  HS_Moderate  HS_Strong                          label  \n",
       "0       1.0      1.0          0.0        0.0        Hate Speech and Abusive  \n",
       "1       0.0      0.0          0.0        0.0                        Abusive  \n",
       "2       0.0      0.0          0.0        0.0  No Hate Speech and No Abusive  \n",
       "3       0.0      0.0          1.0        0.0        Hate Speech and Abusive  \n",
       "4       1.0      0.0          1.0        0.0        Hate Speech and Abusive  "
      ]
     },
     "execution_count": 93,
     "metadata": {},
     "output_type": "execute_result"
    }
   ],
   "source": [
    "df['label'] = df.apply(lambda x: 'No Hate Speech and No Abusive' if x['HS'] == 0 and x['Abusive'] == 0 \n",
    "                        else 'Hate Speech' if x['HS'] == 1 and x['Abusive'] == 0 \n",
    "                        else 'Abusive' if x['HS'] == 0 and x['Abusive'] == 1 \n",
    "                        else 'Hate Speech and Abusive', axis=1)\n",
    "\n",
    "df.head()"
   ]
  },
  {
   "cell_type": "code",
   "execution_count": 98,
   "id": "dbc6f47a",
   "metadata": {},
   "outputs": [
    {
     "data": {
      "text/plain": [
       "No Hate Speech and No Abusive    2901\n",
       "Hate Speech and Abusive          2117\n",
       "Hate Speech                      1674\n",
       "Abusive                          1254\n",
       "Name: label, dtype: int64"
      ]
     },
     "execution_count": 98,
     "metadata": {},
     "output_type": "execute_result"
    }
   ],
   "source": [
    "df['label'].value_counts()"
   ]
  },
  {
   "cell_type": "code",
   "execution_count": 100,
   "id": "417127f4",
   "metadata": {},
   "outputs": [
    {
     "data": {
      "text/plain": [
       "7946"
      ]
     },
     "execution_count": 100,
     "metadata": {},
     "output_type": "execute_result"
    }
   ],
   "source": [
    "2901+2117+1674+1254"
   ]
  },
  {
   "cell_type": "code",
   "execution_count": 76,
   "id": "2a0327a1",
   "metadata": {},
   "outputs": [],
   "source": [
    "for i in range(len(df['HS'])):\n",
    "    if ['HS'] == 1 and ['Abusive'] == 0:\n",
    "        df['label'] = ['Only Hate Speech']\n",
    "\n",
    "    elif ['HS'] == 0 and ['Abusive'] == 1:\n",
    "        df['label'] = print('Only Abusive')\n",
    "\n",
    "    elif ['HS'] == 1 and ['Abusive'] == 1:\n",
    "        df['label'] = print('Hate Speech Abusive')\n",
    "\n",
    "    elif ['HS'] == 0 and ['Abusive'] == 0:\n",
    "        df['label'] = print('No Hate Speech and No Abusive')"
   ]
  },
  {
   "cell_type": "code",
   "execution_count": 71,
   "id": "9dc04041",
   "metadata": {},
   "outputs": [
    {
     "data": {
      "text/plain": [
       "<bound method NDFrame.head of                                                   Tweet   HS  Abusive  \\\n",
       "0     - disaat semua cowok berusaha melacak perhatia...  1.0      1.0   \n",
       "1     RT USER: USER siapa yang telat ngasih tau elu?...  0.0      1.0   \n",
       "2     USER USER AKU ITU AKU\\n\\nKU TAU MATAMU SIPIT T...  0.0      0.0   \n",
       "3     USER USER Kaum cebong kapir udah keliatan dong...  1.0      1.0   \n",
       "4     USER Ya bani taplak dkk \\xf0\\x9f\\x98\\x84\\xf0\\x...  1.0      1.0   \n",
       "...                                                 ...  ...      ...   \n",
       "9274  Kapolda Babi! Biadap dan Bodoh! Gak punya otak...  1.0      1.0   \n",
       "9275  USER jangan asal ngomong ndasmu. congor lu yg ...  1.0      1.0   \n",
       "9276                       USER Kasur mana enak kunyuk'  0.0      1.0   \n",
       "9277  USER Hati hati bisu :( .g\\n\\nlagi bosan huft \\...  0.0      0.0   \n",
       "9278  USER USER USER USER Bom yang real mudah terdet...  0.0      0.0   \n",
       "\n",
       "      HS_Individual  HS_Group  HS_Religion  HS_Race  HS_Physical  HS_Gender  \\\n",
       "0               1.0       0.0          0.0      0.0          0.0        0.0   \n",
       "1               0.0       0.0          0.0      0.0          0.0        0.0   \n",
       "2               0.0       0.0          0.0      0.0          0.0        0.0   \n",
       "3               0.0       1.0          1.0      0.0          0.0        0.0   \n",
       "4               0.0       1.0          0.0      0.0          0.0        0.0   \n",
       "...             ...       ...          ...      ...          ...        ...   \n",
       "9274            0.0       1.0          0.0      0.0          0.0        0.0   \n",
       "9275            1.0       0.0          0.0      0.0          1.0        0.0   \n",
       "9276            0.0       0.0          0.0      0.0          0.0        0.0   \n",
       "9277            0.0       0.0          0.0      0.0          0.0        0.0   \n",
       "9278            0.0       0.0          0.0      0.0          0.0        0.0   \n",
       "\n",
       "      HS_Other  HS_Weak  HS_Moderate  HS_Strong  \n",
       "0          1.0      1.0          0.0        0.0  \n",
       "1          0.0      0.0          0.0        0.0  \n",
       "2          0.0      0.0          0.0        0.0  \n",
       "3          0.0      0.0          1.0        0.0  \n",
       "4          1.0      0.0          1.0        0.0  \n",
       "...        ...      ...          ...        ...  \n",
       "9274       1.0      0.0          1.0        0.0  \n",
       "9275       0.0      1.0          0.0        0.0  \n",
       "9276       0.0      0.0          0.0        0.0  \n",
       "9277       0.0      0.0          0.0        0.0  \n",
       "9278       0.0      0.0          0.0        0.0  \n",
       "\n",
       "[7946 rows x 13 columns]>"
      ]
     },
     "execution_count": 71,
     "metadata": {},
     "output_type": "execute_result"
    }
   ],
   "source": [
    "df.head"
   ]
  },
  {
   "cell_type": "markdown",
   "id": "1e5536d3",
   "metadata": {},
   "source": [
    "Pada tahap ini, semua variabel telah menjadi satu data frame yang memiliki jumlah data yang sama"
   ]
  },
  {
   "cell_type": "code",
   "execution_count": null,
   "id": "ac528654",
   "metadata": {},
   "outputs": [],
   "source": [
    "df['total_char'] = df['Tweet'].apply(len)"
   ]
  },
  {
   "cell_type": "code",
   "execution_count": null,
   "id": "f6d217f4",
   "metadata": {},
   "outputs": [],
   "source": [
    "df['total_word'] = df.Tweet.apply(lambda sent: len(sent.split()))"
   ]
  },
  {
   "cell_type": "code",
   "execution_count": null,
   "id": "3529ded3",
   "metadata": {},
   "outputs": [],
   "source": [
    "df.head()"
   ]
  },
  {
   "cell_type": "code",
   "execution_count": null,
   "id": "adbb5555",
   "metadata": {},
   "outputs": [],
   "source": [
    "df_total = df[['total_char','total_word']]\n",
    "df_total.head()"
   ]
  },
  {
   "cell_type": "code",
   "execution_count": null,
   "id": "b006f3ad",
   "metadata": {},
   "outputs": [],
   "source": [
    "df_tweet.sum()"
   ]
  },
  {
   "cell_type": "code",
   "execution_count": 156,
   "id": "e599bea9",
   "metadata": {},
   "outputs": [
    {
     "data": {
      "text/html": [
       "<div>\n",
       "<style scoped>\n",
       "    .dataframe tbody tr th:only-of-type {\n",
       "        vertical-align: middle;\n",
       "    }\n",
       "\n",
       "    .dataframe tbody tr th {\n",
       "        vertical-align: top;\n",
       "    }\n",
       "\n",
       "    .dataframe thead th {\n",
       "        text-align: right;\n",
       "    }\n",
       "</style>\n",
       "<table border=\"1\" class=\"dataframe\">\n",
       "  <thead>\n",
       "    <tr style=\"text-align: right;\">\n",
       "      <th></th>\n",
       "      <th>data</th>\n",
       "      <th>jumlah</th>\n",
       "      <th>Jumlah_float</th>\n",
       "    </tr>\n",
       "  </thead>\n",
       "  <tbody>\n",
       "    <tr>\n",
       "      <th>0</th>\n",
       "      <td>HS_Individual</td>\n",
       "      <td>2493.0</td>\n",
       "      <td>2493.0</td>\n",
       "    </tr>\n",
       "    <tr>\n",
       "      <th>1</th>\n",
       "      <td>HS_Group</td>\n",
       "      <td>1298.0</td>\n",
       "      <td>1298.0</td>\n",
       "    </tr>\n",
       "    <tr>\n",
       "      <th>2</th>\n",
       "      <td>HS_Religion</td>\n",
       "      <td>427.0</td>\n",
       "      <td>427.0</td>\n",
       "    </tr>\n",
       "    <tr>\n",
       "      <th>3</th>\n",
       "      <td>HS_Race</td>\n",
       "      <td>434.0</td>\n",
       "      <td>434.0</td>\n",
       "    </tr>\n",
       "    <tr>\n",
       "      <th>4</th>\n",
       "      <td>HS_Physical</td>\n",
       "      <td>201.0</td>\n",
       "      <td>201.0</td>\n",
       "    </tr>\n",
       "    <tr>\n",
       "      <th>5</th>\n",
       "      <td>HS_Gender</td>\n",
       "      <td>193.0</td>\n",
       "      <td>193.0</td>\n",
       "    </tr>\n",
       "    <tr>\n",
       "      <th>6</th>\n",
       "      <td>HS_Other</td>\n",
       "      <td>2639.0</td>\n",
       "      <td>2639.0</td>\n",
       "    </tr>\n",
       "  </tbody>\n",
       "</table>\n",
       "</div>"
      ],
      "text/plain": [
       "            data  jumlah  Jumlah_float\n",
       "0  HS_Individual  2493.0        2493.0\n",
       "1       HS_Group  1298.0        1298.0\n",
       "2    HS_Religion   427.0         427.0\n",
       "3        HS_Race   434.0         434.0\n",
       "4    HS_Physical   201.0         201.0\n",
       "5      HS_Gender   193.0         193.0\n",
       "6       HS_Other  2639.0        2639.0"
      ]
     },
     "execution_count": 156,
     "metadata": {},
     "output_type": "execute_result"
    }
   ],
   "source": [
    "df_chart1 = pd.DataFrame({\"data\" : ['HS_Individual','HS_Group','HS_Religion','HS_Race','HS_Physical',\n",
    "               'HS_Gender','HS_Other'],\"jumlah\" : [\n",
    "                             '2493.0','1298.0','427.0','434.0','201.0','193.0','2639.0']})\n",
    "df_chart1['Jumlah_float']=df_chart1['jumlah'].astype(float)\n",
    "df_chart1"
   ]
  },
  {
   "cell_type": "code",
   "execution_count": 151,
   "id": "628bbd96",
   "metadata": {},
   "outputs": [
    {
     "data": {
      "text/html": [
       "<div>\n",
       "<style scoped>\n",
       "    .dataframe tbody tr th:only-of-type {\n",
       "        vertical-align: middle;\n",
       "    }\n",
       "\n",
       "    .dataframe tbody tr th {\n",
       "        vertical-align: top;\n",
       "    }\n",
       "\n",
       "    .dataframe thead th {\n",
       "        text-align: right;\n",
       "    }\n",
       "</style>\n",
       "<table border=\"1\" class=\"dataframe\">\n",
       "  <thead>\n",
       "    <tr style=\"text-align: right;\">\n",
       "      <th></th>\n",
       "      <th>data2</th>\n",
       "      <th>jumlah</th>\n",
       "      <th>Jumlah_float</th>\n",
       "    </tr>\n",
       "  </thead>\n",
       "  <tbody>\n",
       "    <tr>\n",
       "      <th>0</th>\n",
       "      <td>HS_Individual</td>\n",
       "      <td>2493.0</td>\n",
       "      <td>2493.0</td>\n",
       "    </tr>\n",
       "    <tr>\n",
       "      <th>1</th>\n",
       "      <td>HS_Group</td>\n",
       "      <td>1298.0</td>\n",
       "      <td>1298.0</td>\n",
       "    </tr>\n",
       "  </tbody>\n",
       "</table>\n",
       "</div>"
      ],
      "text/plain": [
       "           data2  jumlah  Jumlah_float\n",
       "0  HS_Individual  2493.0        2493.0\n",
       "1       HS_Group  1298.0        1298.0"
      ]
     },
     "execution_count": 151,
     "metadata": {},
     "output_type": "execute_result"
    }
   ],
   "source": [
    "df_chart = pd.DataFrame({\"data2\" : ['HS_Individual','HS_Group'],\"jumlah\" : [\n",
    "                             '2493.0','1298.0']})\n",
    "df_chart['Jumlah_float']=df_chart['jumlah'].astype(float)\n",
    "df_chart"
   ]
  },
  {
   "cell_type": "code",
   "execution_count": 160,
   "id": "092a2082",
   "metadata": {},
   "outputs": [
    {
     "data": {
      "text/html": [
       "<div>\n",
       "<style scoped>\n",
       "    .dataframe tbody tr th:only-of-type {\n",
       "        vertical-align: middle;\n",
       "    }\n",
       "\n",
       "    .dataframe tbody tr th {\n",
       "        vertical-align: top;\n",
       "    }\n",
       "\n",
       "    .dataframe thead th {\n",
       "        text-align: right;\n",
       "    }\n",
       "</style>\n",
       "<table border=\"1\" class=\"dataframe\">\n",
       "  <thead>\n",
       "    <tr style=\"text-align: right;\">\n",
       "      <th></th>\n",
       "      <th>data1</th>\n",
       "      <th>jumlah</th>\n",
       "      <th>Jumlah_float</th>\n",
       "    </tr>\n",
       "  </thead>\n",
       "  <tbody>\n",
       "    <tr>\n",
       "      <th>0</th>\n",
       "      <td>HS_Weak</td>\n",
       "      <td>2365.0</td>\n",
       "      <td>2365.0</td>\n",
       "    </tr>\n",
       "    <tr>\n",
       "      <th>1</th>\n",
       "      <td>HS_Moderate</td>\n",
       "      <td>1077.0</td>\n",
       "      <td>1077.0</td>\n",
       "    </tr>\n",
       "    <tr>\n",
       "      <th>2</th>\n",
       "      <td>HS_Strong</td>\n",
       "      <td>349.0</td>\n",
       "      <td>349.0</td>\n",
       "    </tr>\n",
       "  </tbody>\n",
       "</table>\n",
       "</div>"
      ],
      "text/plain": [
       "         data1  jumlah  Jumlah_float\n",
       "0      HS_Weak  2365.0        2365.0\n",
       "1  HS_Moderate  1077.0        1077.0\n",
       "2   HS_Strong    349.0         349.0"
      ]
     },
     "execution_count": 160,
     "metadata": {},
     "output_type": "execute_result"
    }
   ],
   "source": [
    "df_chart = pd.DataFrame({\"data1\" : ['HS_Weak','HS_Moderate','HS_Strong '],\"jumlah\" : [\n",
    "                             '2365.0','1077.0','349.0']})\n",
    "df_chart['Jumlah_float']=df_chart['jumlah'].astype(float)\n",
    "df_chart"
   ]
  },
  {
   "cell_type": "code",
   "execution_count": 157,
   "id": "dbc39d3d",
   "metadata": {},
   "outputs": [
    {
     "data": {
      "image/png": "[encoded data removed]",
      "text/plain": [
       "<Figure size 1600x1000 with 1 Axes>"
      ]
     },
     "metadata": {},
     "output_type": "display_data"
    }
   ],
   "source": [
    "plt.figure(figsize=(16,10))\n",
    "sns.barplot(data = df_chart1, x = df_chart['data'], y = df_chart['Jumlah_float'])\n",
    "\n",
    "plt.show()"
   ]
  },
  {
   "cell_type": "code",
   "execution_count": 158,
   "id": "837b773e",
   "metadata": {},
   "outputs": [
    {
     "data": {
      "image/png": "[encoded data removed]",
      "text/plain": [
       "<Figure size 1600x1000 with 1 Axes>"
      ]
     },
     "metadata": {},
     "output_type": "display_data"
    }
   ],
   "source": [
    "plt.figure(figsize=(16,10))\n",
    "sns.barplot(data = df_chart, x = df_chart['data'], y = df_chart['Jumlah_float'])\n",
    "\n",
    "plt.show()"
   ]
  },
  {
   "cell_type": "markdown",
   "id": "a7f06cb6",
   "metadata": {},
   "source": [
    "Berdasarkan Diagram Batang terlihat bahwa tweet yang disertai dengan HS atau (Hate Speech) terlihat sangat banyak digunakan dan diikuti oleh kata abusive"
   ]
  },
  {
   "cell_type": "code",
   "execution_count": 161,
   "id": "d94d6c75",
   "metadata": {},
   "outputs": [
    {
     "data": {
      "image/png": "[encoded data removed]",
      "text/plain": [
       "<Figure size 1600x1000 with 1 Axes>"
      ]
     },
     "metadata": {},
     "output_type": "display_data"
    }
   ],
   "source": [
    "plt.figure(figsize=(16,10))\n",
    "sns.barplot(data = df_chart, x = df_chart['data1'], y = df_chart['Jumlah_float'])\n",
    "\n",
    "plt.show()"
   ]
  },
  {
   "cell_type": "code",
   "execution_count": null,
   "id": "6ee26687",
   "metadata": {},
   "outputs": [],
   "source": [
    "No Hate Speech and No Abusive    2901\n",
    "Hate Speech and Abusive          2117\n",
    "Hate Speech                      1674\n",
    "Abusive                          1254"
   ]
  },
  {
   "cell_type": "code",
   "execution_count": 113,
   "id": "2f024229",
   "metadata": {},
   "outputs": [
    {
     "data": {
      "text/html": [
       "<div>\n",
       "<style scoped>\n",
       "    .dataframe tbody tr th:only-of-type {\n",
       "        vertical-align: middle;\n",
       "    }\n",
       "\n",
       "    .dataframe tbody tr th {\n",
       "        vertical-align: top;\n",
       "    }\n",
       "\n",
       "    .dataframe thead th {\n",
       "        text-align: right;\n",
       "    }\n",
       "</style>\n",
       "<table border=\"1\" class=\"dataframe\">\n",
       "  <thead>\n",
       "    <tr style=\"text-align: right;\">\n",
       "      <th></th>\n",
       "      <th>data3</th>\n",
       "      <th>jumlah</th>\n",
       "      <th>Jumlah_float</th>\n",
       "    </tr>\n",
       "  </thead>\n",
       "  <tbody>\n",
       "    <tr>\n",
       "      <th>0</th>\n",
       "      <td>No Hate Speech and No Abusive</td>\n",
       "      <td>2901</td>\n",
       "      <td>2901.0</td>\n",
       "    </tr>\n",
       "    <tr>\n",
       "      <th>1</th>\n",
       "      <td>Hate Speech and Abusive</td>\n",
       "      <td>2117</td>\n",
       "      <td>2117.0</td>\n",
       "    </tr>\n",
       "    <tr>\n",
       "      <th>2</th>\n",
       "      <td>Hate Speech</td>\n",
       "      <td>1674</td>\n",
       "      <td>1674.0</td>\n",
       "    </tr>\n",
       "    <tr>\n",
       "      <th>3</th>\n",
       "      <td>Abusive</td>\n",
       "      <td>1254</td>\n",
       "      <td>1254.0</td>\n",
       "    </tr>\n",
       "  </tbody>\n",
       "</table>\n",
       "</div>"
      ],
      "text/plain": [
       "                           data3 jumlah  Jumlah_float\n",
       "0  No Hate Speech and No Abusive   2901        2901.0\n",
       "1        Hate Speech and Abusive   2117        2117.0\n",
       "2                   Hate Speech    1674        1674.0\n",
       "3                        Abusive   1254        1254.0"
      ]
     },
     "execution_count": 113,
     "metadata": {},
     "output_type": "execute_result"
    }
   ],
   "source": [
    "df_chart = pd.DataFrame({\"data3\" : ['No Hate Speech and No Abusive','Hate Speech and Abusive','Hate Speech ','Abusive'],\n",
    "                         \"jumlah\" : ['2901','2117','1674','1254']})\n",
    "df_chart['Jumlah_float']=df_chart['jumlah'].astype(float)\n",
    "df_chart"
   ]
  },
  {
   "cell_type": "code",
   "execution_count": 122,
   "id": "8742f719",
   "metadata": {},
   "outputs": [
    {
     "data": {
      "image/png": "[encoded data removed]",
      "text/plain": [
       "<Figure size 1600x1000 with 1 Axes>"
      ]
     },
     "metadata": {},
     "output_type": "display_data"
    }
   ],
   "source": [
    "plt.figure(figsize=(16,10))\n",
    "sns.barplot(data = df_chart, x = df_chart['data3'], y = df_chart['Jumlah_float'])\n",
    "\n",
    "plt.show()"
   ]
  },
  {
   "cell_type": "code",
   "execution_count": 123,
   "id": "6168d574",
   "metadata": {},
   "outputs": [
    {
     "ename": "ValueError",
     "evalue": "Plot kind 'pie' is not recognized",
     "output_type": "error",
     "traceback": [
      "\u001b[1;31m---------------------------------------------------------------------------\u001b[0m",
      "\u001b[1;31mKeyError\u001b[0m                                  Traceback (most recent call last)",
      "File \u001b[1;32m~\\AppData\\Local\\Programs\\Python\\Python311\\Lib\\site-packages\\seaborn\\categorical.py:3016\u001b[0m, in \u001b[0;36mcatplot\u001b[1;34m(data, x, y, hue, row, col, col_wrap, estimator, errorbar, n_boot, units, seed, order, hue_order, row_order, col_order, height, aspect, kind, native_scale, formatter, orient, color, palette, hue_norm, legend, legend_out, sharex, sharey, margin_titles, facet_kws, ci, **kwargs)\u001b[0m\n\u001b[0;32m   3015\u001b[0m \u001b[38;5;28;01mtry\u001b[39;00m:\n\u001b[1;32m-> 3016\u001b[0m     plot_func \u001b[38;5;241m=\u001b[39m \u001b[38;5;28;43mglobals\u001b[39;49m\u001b[43m(\u001b[49m\u001b[43m)\u001b[49m\u001b[43m[\u001b[49m\u001b[43mkind\u001b[49m\u001b[43m \u001b[49m\u001b[38;5;241;43m+\u001b[39;49m\u001b[43m \u001b[49m\u001b[38;5;124;43m\"\u001b[39;49m\u001b[38;5;124;43mplot\u001b[39;49m\u001b[38;5;124;43m\"\u001b[39;49m\u001b[43m]\u001b[49m\n\u001b[0;32m   3017\u001b[0m \u001b[38;5;28;01mexcept\u001b[39;00m \u001b[38;5;167;01mKeyError\u001b[39;00m:\n",
      "\u001b[1;31mKeyError\u001b[0m: 'pieplot'",
      "\nDuring handling of the above exception, another exception occurred:\n",
      "\u001b[1;31mValueError\u001b[0m                                Traceback (most recent call last)",
      "Cell \u001b[1;32mIn[123], line 1\u001b[0m\n\u001b[1;32m----> 1\u001b[0m \u001b[43msns\u001b[49m\u001b[38;5;241;43m.\u001b[39;49m\u001b[43mcatplot\u001b[49m\u001b[43m(\u001b[49m\u001b[43mdata\u001b[49m\u001b[38;5;241;43m=\u001b[39;49m\u001b[43mdf_chart\u001b[49m\u001b[43m,\u001b[49m\u001b[43m \u001b[49m\u001b[43my\u001b[49m\u001b[38;5;241;43m=\u001b[39;49m\u001b[38;5;124;43m'\u001b[39;49m\u001b[38;5;124;43mJumlah_float\u001b[39;49m\u001b[38;5;124;43m'\u001b[39;49m\u001b[43m,\u001b[49m\u001b[43m \u001b[49m\u001b[43mkind\u001b[49m\u001b[38;5;241;43m=\u001b[39;49m\u001b[38;5;124;43m'\u001b[39;49m\u001b[38;5;124;43mpie\u001b[39;49m\u001b[38;5;124;43m'\u001b[39;49m\u001b[43m)\u001b[49m\n",
      "File \u001b[1;32m~\\AppData\\Local\\Programs\\Python\\Python311\\Lib\\site-packages\\seaborn\\categorical.py:3019\u001b[0m, in \u001b[0;36mcatplot\u001b[1;34m(data, x, y, hue, row, col, col_wrap, estimator, errorbar, n_boot, units, seed, order, hue_order, row_order, col_order, height, aspect, kind, native_scale, formatter, orient, color, palette, hue_norm, legend, legend_out, sharex, sharey, margin_titles, facet_kws, ci, **kwargs)\u001b[0m\n\u001b[0;32m   3017\u001b[0m \u001b[38;5;28;01mexcept\u001b[39;00m \u001b[38;5;167;01mKeyError\u001b[39;00m:\n\u001b[0;32m   3018\u001b[0m     err \u001b[38;5;241m=\u001b[39m \u001b[38;5;124mf\u001b[39m\u001b[38;5;124m\"\u001b[39m\u001b[38;5;124mPlot kind \u001b[39m\u001b[38;5;124m'\u001b[39m\u001b[38;5;132;01m{\u001b[39;00mkind\u001b[38;5;132;01m}\u001b[39;00m\u001b[38;5;124m'\u001b[39m\u001b[38;5;124m is not recognized\u001b[39m\u001b[38;5;124m\"\u001b[39m\n\u001b[1;32m-> 3019\u001b[0m     \u001b[38;5;28;01mraise\u001b[39;00m \u001b[38;5;167;01mValueError\u001b[39;00m(err)\n\u001b[0;32m   3021\u001b[0m \u001b[38;5;66;03m# Check for attempt to plot onto specific axes and warn\u001b[39;00m\n\u001b[0;32m   3022\u001b[0m \u001b[38;5;28;01mif\u001b[39;00m \u001b[38;5;124m\"\u001b[39m\u001b[38;5;124max\u001b[39m\u001b[38;5;124m\"\u001b[39m \u001b[38;5;129;01min\u001b[39;00m kwargs:\n",
      "\u001b[1;31mValueError\u001b[0m: Plot kind 'pie' is not recognized"
     ]
    }
   ],
   "source": [
    "sns.catplot(data=df_chart, y='Jumlah_float', kind='pie')"
   ]
  },
  {
   "cell_type": "code",
   "execution_count": 126,
   "id": "524ed575",
   "metadata": {},
   "outputs": [
    {
     "ename": "AttributeError",
     "evalue": "'DataFrame' object has no attribute 'jumlah_float'",
     "output_type": "error",
     "traceback": [
      "\u001b[1;31m---------------------------------------------------------------------------\u001b[0m",
      "\u001b[1;31mAttributeError\u001b[0m                            Traceback (most recent call last)",
      "Cell \u001b[1;32mIn[126], line 1\u001b[0m\n\u001b[1;32m----> 1\u001b[0m \u001b[43mdf_chart\u001b[49m\u001b[38;5;241;43m.\u001b[39;49m\u001b[43mjumlah_float\u001b[49m\u001b[38;5;241m.\u001b[39mlabel\u001b[38;5;241m.\u001b[39mcount()\u001b[38;5;241m.\u001b[39mplot(kind\u001b[38;5;241m=\u001b[39m\u001b[38;5;124m'\u001b[39m\u001b[38;5;124mpie\u001b[39m\u001b[38;5;124m'\u001b[39m)\n",
      "File \u001b[1;32m~\\AppData\\Local\\Programs\\Python\\Python311\\Lib\\site-packages\\pandas\\core\\generic.py:5902\u001b[0m, in \u001b[0;36mNDFrame.__getattr__\u001b[1;34m(self, name)\u001b[0m\n\u001b[0;32m   5895\u001b[0m \u001b[38;5;28;01mif\u001b[39;00m (\n\u001b[0;32m   5896\u001b[0m     name \u001b[38;5;129;01mnot\u001b[39;00m \u001b[38;5;129;01min\u001b[39;00m \u001b[38;5;28mself\u001b[39m\u001b[38;5;241m.\u001b[39m_internal_names_set\n\u001b[0;32m   5897\u001b[0m     \u001b[38;5;129;01mand\u001b[39;00m name \u001b[38;5;129;01mnot\u001b[39;00m \u001b[38;5;129;01min\u001b[39;00m \u001b[38;5;28mself\u001b[39m\u001b[38;5;241m.\u001b[39m_metadata\n\u001b[0;32m   5898\u001b[0m     \u001b[38;5;129;01mand\u001b[39;00m name \u001b[38;5;129;01mnot\u001b[39;00m \u001b[38;5;129;01min\u001b[39;00m \u001b[38;5;28mself\u001b[39m\u001b[38;5;241m.\u001b[39m_accessors\n\u001b[0;32m   5899\u001b[0m     \u001b[38;5;129;01mand\u001b[39;00m \u001b[38;5;28mself\u001b[39m\u001b[38;5;241m.\u001b[39m_info_axis\u001b[38;5;241m.\u001b[39m_can_hold_identifiers_and_holds_name(name)\n\u001b[0;32m   5900\u001b[0m ):\n\u001b[0;32m   5901\u001b[0m     \u001b[38;5;28;01mreturn\u001b[39;00m \u001b[38;5;28mself\u001b[39m[name]\n\u001b[1;32m-> 5902\u001b[0m \u001b[38;5;28;01mreturn\u001b[39;00m \u001b[38;5;28;43mobject\u001b[39;49m\u001b[38;5;241;43m.\u001b[39;49m\u001b[38;5;21;43m__getattribute__\u001b[39;49m\u001b[43m(\u001b[49m\u001b[38;5;28;43mself\u001b[39;49m\u001b[43m,\u001b[49m\u001b[43m \u001b[49m\u001b[43mname\u001b[49m\u001b[43m)\u001b[49m\n",
      "\u001b[1;31mAttributeError\u001b[0m: 'DataFrame' object has no attribute 'jumlah_float'"
     ]
    }
   ],
   "source": [
    "df_chart.jumlah_float.label.count().plot(kind='pie')"
   ]
  },
  {
   "cell_type": "code",
   "execution_count": 142,
   "id": "2f9120e1",
   "metadata": {},
   "outputs": [
    {
     "name": "stderr",
     "output_type": "stream",
     "text": [
      "No artists with labels found to put in legend.  Note that artists whose label start with an underscore are ignored when legend() is called with no argument.\n"
     ]
    },
    {
     "data": {
      "text/plain": [
       "<matplotlib.legend.Legend at 0x1fcf2f17310>"
      ]
     },
     "execution_count": 142,
     "metadata": {},
     "output_type": "execute_result"
    },
    {
     "data": {
      "image/png": "[encoded data removed]",
      "text/plain": [
       "<Figure size 640x480 with 1 Axes>"
      ]
     },
     "metadata": {},
     "output_type": "display_data"
    }
   ],
   "source": [
    "df['label'].value_counts().plot(kind='pie', legend=True,labels = None, autopct='%1.1f%%')\n",
    "plt.legend(loc='center left', bbox_to_anchor=(1.0, 0.5))"
   ]
  },
  {
   "cell_type": "code",
   "execution_count": 143,
   "id": "3a297e03",
   "metadata": {},
   "outputs": [
    {
     "data": {
      "text/plain": [
       "<matplotlib.legend.Legend at 0x1fcf3345790>"
      ]
     },
     "execution_count": 143,
     "metadata": {},
     "output_type": "execute_result"
    },
    {
     "data": {
      "image/png": "[encoded data removed]",
      "text/plain": [
       "<Figure size 640x480 with 1 Axes>"
      ]
     },
     "metadata": {},
     "output_type": "display_data"
    }
   ],
   "source": [
    "df['label'].value_counts().plot(kind='pie', legend=True, autopct='%1.1f%%')\n",
    "plt.legend(loc='center left', bbox_to_anchor=(1.0, 0.5))"
   ]
  },
  {
   "cell_type": "code",
   "execution_count": null,
   "id": "1725c7bb",
   "metadata": {},
   "outputs": [],
   "source": []
  }
 ],
 "metadata": {
  "kernelspec": {
   "display_name": "Python 3 (ipykernel)",
   "language": "python",
   "name": "python3"
  },
  "language_info": {
   "codemirror_mode": {
    "name": "ipython",
    "version": 3
   },
   "file_extension": ".py",
   "mimetype": "text/x-python",
   "name": "python",
   "nbconvert_exporter": "python",
   "pygments_lexer": "ipython3",
   "version": "3.11.1"
  }
 },
 "nbformat": 4,
 "nbformat_minor": 5
}
